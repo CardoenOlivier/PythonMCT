{
 "cells": [
  {
   "cell_type": "code",
   "execution_count": 1,
   "metadata": {},
   "outputs": [],
   "source": [
    "import pandas as pd\n",
    "import random\n",
    "import math"
   ]
  },
  {
   "cell_type": "code",
   "execution_count": 2,
   "metadata": {},
   "outputs": [],
   "source": [
    "d = pd.read_csv(\"data/fast_groepen_opgave2.csv\")"
   ]
  },
  {
   "cell_type": "code",
   "execution_count": 3,
   "metadata": {},
   "outputs": [
    {
     "name": "stdout",
     "output_type": "stream",
     "text": [
      "['1MCT2', '1MCT6', '1MCT1', '1MIT2', '1MIT1', '1MCT3', '1MCT4', '1MCT5']\n",
      "8\n"
     ]
    }
   ],
   "source": [
    "count = 0 \n",
    "l=[]\n",
    "\n",
    "for i in (d['klasgroep'].to_list()):\n",
    "    if i not in l:\n",
    "        l.append(i)\n",
    "        count+=1\n",
    "        \n",
    "        \n",
    "print(l)\n",
    "print(count)"
   ]
  },
  {
   "cell_type": "code",
   "execution_count": 4,
   "metadata": {},
   "outputs": [
    {
     "name": "stdout",
     "output_type": "stream",
     "text": [
      "{'1MCT2': 22, '1MCT6': 26, '1MCT1': 26, '1MIT2': 29, '1MIT1': 19, '1MCT3': 34, '1MCT4': 23, '1MCT5': 21}\n"
     ]
    }
   ],
   "source": [
    "dic ={}\n",
    "for j in d['klasgroep'].to_list():\n",
    "    if j not in dic:\n",
    "        dic[j] = 1\n",
    "    else:\n",
    "        dic[j] +=1\n",
    "print(dic)\n"
   ]
  },
  {
   "cell_type": "code",
   "execution_count": 5,
   "metadata": {},
   "outputs": [
    {
     "name": "stdout",
     "output_type": "stream",
     "text": [
      "{'MCT': 152, 'MIT': 48}\n"
     ]
    }
   ],
   "source": [
    "dic ={'MCT':0,'MIT':0}\n",
    "for j in d['klasgroep'].to_list():\n",
    "    if 'MCT' in j:\n",
    "        dic['MCT'] += 1\n",
    "    else:\n",
    "        dic[\"MIT\"] +=1\n",
    "print(dic)"
   ]
  },
  {
   "cell_type": "code",
   "execution_count": 1,
   "metadata": {},
   "outputs": [
    {
     "ename": "NameError",
     "evalue": "name 'd' is not defined",
     "output_type": "error",
     "traceback": [
      "\u001b[0;31m---------------------------------------------------------------------------\u001b[0m",
      "\u001b[0;31mNameError\u001b[0m                                 Traceback (most recent call last)",
      "\u001b[1;32m/Users/timbleuze/Library/CloudStorage/OneDrive-HogeschoolWest-Vlaanderen/PythonMCT/Pytohn/fastTaak1.ipynb Cell 6\u001b[0m in \u001b[0;36m<cell line: 5>\u001b[0;34m()\u001b[0m\n\u001b[1;32m      <a href='vscode-notebook-cell:/Users/timbleuze/Library/CloudStorage/OneDrive-HogeschoolWest-Vlaanderen/PythonMCT/Pytohn/fastTaak1.ipynb#W5sZmlsZQ%3D%3D?line=2'>3</a>\u001b[0m l \u001b[39m=\u001b[39m {}\n\u001b[1;32m      <a href='vscode-notebook-cell:/Users/timbleuze/Library/CloudStorage/OneDrive-HogeschoolWest-Vlaanderen/PythonMCT/Pytohn/fastTaak1.ipynb#W5sZmlsZQ%3D%3D?line=3'>4</a>\u001b[0m n \u001b[39m=\u001b[39m []\n\u001b[0;32m----> <a href='vscode-notebook-cell:/Users/timbleuze/Library/CloudStorage/OneDrive-HogeschoolWest-Vlaanderen/PythonMCT/Pytohn/fastTaak1.ipynb#W5sZmlsZQ%3D%3D?line=4'>5</a>\u001b[0m \u001b[39mfor\u001b[39;00m i \u001b[39min\u001b[39;00m \u001b[39mrange\u001b[39m(\u001b[39mlen\u001b[39m(d[\u001b[39m'\u001b[39m\u001b[39mklasgroep\u001b[39m\u001b[39m'\u001b[39m]\u001b[39m.\u001b[39mto_list())):\n\u001b[1;32m      <a href='vscode-notebook-cell:/Users/timbleuze/Library/CloudStorage/OneDrive-HogeschoolWest-Vlaanderen/PythonMCT/Pytohn/fastTaak1.ipynb#W5sZmlsZQ%3D%3D?line=5'>6</a>\u001b[0m     n\u001b[39m.\u001b[39mappend(i)\n\u001b[1;32m      <a href='vscode-notebook-cell:/Users/timbleuze/Library/CloudStorage/OneDrive-HogeschoolWest-Vlaanderen/PythonMCT/Pytohn/fastTaak1.ipynb#W5sZmlsZQ%3D%3D?line=6'>7</a>\u001b[0m \u001b[39mfor\u001b[39;00m o \u001b[39min\u001b[39;00m \u001b[39mrange\u001b[39m(math\u001b[39m.\u001b[39mtrunc((\u001b[39mlen\u001b[39m(d[\u001b[39m'\u001b[39m\u001b[39mklasgroep\u001b[39m\u001b[39m'\u001b[39m]\u001b[39m.\u001b[39mto_list())\u001b[39m-\u001b[39m\u001b[39m1\u001b[39m)\u001b[39m/\u001b[39mgrootte)):\n",
      "\u001b[0;31mNameError\u001b[0m: name 'd' is not defined"
     ]
    }
   ],
   "source": [
    "grootte = int(input('Wat moet de groepgrootte zijn?'))\n",
    "\n",
    "l = {}\n",
    "n = []\n",
    "for i in range(len(d['klasgroep'].to_list())):\n",
    "    n.append(i)\n",
    "for o in range(math.trunc((len(d['klasgroep'].to_list())-1)/grootte)):\n",
    "    for p in range(grootte): \n",
    "        rand_idx = int(random.random() * len(n))\n",
    "        rand = n[rand_idx]\n",
    "        n.remove(rand)\n",
    "        if o in l.keys():\n",
    "            l[o].append(d['voornaam'][rand]+ ' ' + d['familienaam'][rand]+' ' + ' ' + str(rand))\n",
    "        else:\n",
    "            l[o] = []\n",
    "            l[o].append(d['voornaam'][rand]+ ' ' + d['familienaam'][rand]+' ' + ' ' + str(rand))\n",
    "        n.append(rand)\n",
    "\n",
    "for a in range(len(d['klasgroep'].to_list())-(grootte*(math.trunc((len(d['klasgroep'].to_list())-1)/grootte)))):\n",
    "        print(a)\n",
    "        rand_idx = int(random.random() * len(n))\n",
    "        rand = n[rand_idx]\n",
    "        n.remove(rand)\n",
    "        if a!=0:\n",
    "            l[o+0].append(d['voornaam'][rand]+ ' ' + d['familienaam'][rand]+ ' ' + ' ' + str(rand))\n",
    "        else:\n",
    "            l[o+a] = []\n",
    "            l[o+a].append(d['voornaam'][rand]+ ' ' + d['familienaam'][rand] +' ' + ' ' + str(rand))\n",
    "        n.append(rand)\n",
    "\n",
    "for m in l.keys():\n",
    "    print(l[m])\n",
    "\n"
   ]
  },
  {
   "cell_type": "code",
   "execution_count": null,
   "metadata": {},
   "outputs": [],
   "source": []
  },
  {
   "cell_type": "code",
   "execution_count": null,
   "metadata": {},
   "outputs": [
    {
     "name": "stdout",
     "output_type": "stream",
     "text": [
      "Reagen\n"
     ]
    }
   ],
   "source": [
    "print(d['voornaam'][199])"
   ]
  },
  {
   "cell_type": "code",
   "execution_count": null,
   "metadata": {},
   "outputs": [],
   "source": []
  }
 ],
 "metadata": {
  "kernelspec": {
   "display_name": "Python 3.10.6 64-bit",
   "language": "python",
   "name": "python3"
  },
  "language_info": {
   "codemirror_mode": {
    "name": "ipython",
    "version": 3
   },
   "file_extension": ".py",
   "mimetype": "text/x-python",
   "name": "python",
   "nbconvert_exporter": "python",
   "pygments_lexer": "ipython3",
   "version": "3.10.6"
  },
  "orig_nbformat": 4,
  "vscode": {
   "interpreter": {
    "hash": "aee8b7b246df8f9039afb4144a1f6fd8d2ca17a180786b69acc140d282b71a49"
   }
  }
 },
 "nbformat": 4,
 "nbformat_minor": 2
}
